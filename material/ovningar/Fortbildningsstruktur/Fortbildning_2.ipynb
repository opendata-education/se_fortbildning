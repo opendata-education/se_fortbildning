{
 "cells": [
  {
   "cell_type": "markdown",
   "id": "6e225830",
   "metadata": {},
   "source": [
    "# Fortbildning session 2 - Fildelning och problemlösning"
   ]
  },
  {
   "cell_type": "markdown",
   "id": "3abf4fe7",
   "metadata": {},
   "source": [
    "Här följer en sammanfattningslista på sessionens ämnen. En del av instruktionerna finns även på video, och klickbara länkar till klippen hittas i dokumentet. Klippen är främst ämnade som repetition mellan kurstillfällen, men kan också användas som en fristående kurs om man hellre lär sig självständigt."
   ]
  },
  {
   "cell_type": "markdown",
   "id": "8f0ad01c",
   "metadata": {},
   "source": [
    "## 1 - Github och MyBinder [(video)](https://youtu.be/Mu8UqQhNc0M)"
   ]
  },
  {
   "cell_type": "markdown",
   "id": "8bb9f579",
   "metadata": {},
   "source": [
    "### 1.1 GitHub\n",
    "- Vad är GitHub, och vilka möjligheter finns?\n",
    "- Skapa användarkonto"
   ]
  },
  {
   "cell_type": "markdown",
   "id": "b5dfd10b",
   "metadata": {},
   "source": [
    "### 1.2 Fildelning\n",
    "- Push/pull repositories\n",
    "- GitHub Desktop"
   ]
  },
  {
   "cell_type": "markdown",
   "id": "e07b0917",
   "metadata": {},
   "source": [
    "### 1.3 MyBinder\n",
    "- Vad gör en Binder?\n",
    "- Hur skapar vi en Binder?"
   ]
  },
  {
   "cell_type": "markdown",
   "id": "a9c30685",
   "metadata": {},
   "source": [
    "## 2 - Problemlösning [(video)](https://youtu.be/oBo8-e-F0cw)"
   ]
  },
  {
   "cell_type": "markdown",
   "id": "68d90105",
   "metadata": {},
   "source": [
    "### 2.1 Errors\n",
    "- Okörda celler\n",
    "- Installera paket\n",
    "- Vanliga tecken/syntaxfel"
   ]
  },
  {
   "cell_type": "markdown",
   "id": "cdef320f",
   "metadata": {},
   "source": [
    "### 2.2 Kernel\n",
    "- Vad är en Kernel?\n",
    "- Kernel reset"
   ]
  },
  {
   "cell_type": "markdown",
   "id": "5113547e",
   "metadata": {},
   "source": [
    "### 2.3 CSV-problem\n",
    "- Separator\n",
    "- Header\n",
    "- UTF-8\n",
    "- Exempel från THL"
   ]
  },
  {
   "cell_type": "markdown",
   "id": "50ae90b1",
   "metadata": {},
   "source": [
    "## 3 - Material på webbsidan"
   ]
  },
  {
   "cell_type": "markdown",
   "id": "aff31885",
   "metadata": {},
   "source": [
    "### "
   ]
  }
 ],
 "metadata": {
  "kernelspec": {
   "display_name": "Python 3",
   "language": "python",
   "name": "python3"
  },
  "language_info": {
   "codemirror_mode": {
    "name": "ipython",
    "version": 3
   },
   "file_extension": ".py",
   "mimetype": "text/x-python",
   "name": "python",
   "nbconvert_exporter": "python",
   "pygments_lexer": "ipython3",
   "version": "3.8.8"
  }
 },
 "nbformat": 4,
 "nbformat_minor": 5
}
