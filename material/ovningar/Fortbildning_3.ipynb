{
 "cells": [
  {
   "cell_type": "markdown",
   "id": "545867f6",
   "metadata": {},
   "source": [
    "# Fortbildning session 3 - Planera Projekt"
   ]
  },
  {
   "cell_type": "markdown",
   "id": "537885fd",
   "metadata": {},
   "source": [
    "## Mål:\n",
    "Deltagarna ska få bekanta sig med våra projektmaterial, och får enligt eget intresse testa sig fram med det vi gått igenom eller fundera på egna helheter.\n",
    "\n",
    "Hur gör vi det?"
   ]
  }
 ],
 "metadata": {
  "kernelspec": {
   "display_name": "Python 3",
   "language": "python",
   "name": "python3"
  },
  "language_info": {
   "codemirror_mode": {
    "name": "ipython",
    "version": 3
   },
   "file_extension": ".py",
   "mimetype": "text/x-python",
   "name": "python",
   "nbconvert_exporter": "python",
   "pygments_lexer": "ipython3",
   "version": "3.8.8"
  }
 },
 "nbformat": 4,
 "nbformat_minor": 5
}
