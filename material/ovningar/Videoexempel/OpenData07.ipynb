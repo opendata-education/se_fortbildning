{
 "cells": [
  {
   "cell_type": "markdown",
   "id": "719a7b75",
   "metadata": {},
   "source": [
    "# Problemlösning"
   ]
  },
  {
   "cell_type": "code",
   "execution_count": null,
   "id": "66cb632c",
   "metadata": {},
   "outputs": [],
   "source": [
    "import pandas as pd"
   ]
  },
  {
   "cell_type": "code",
   "execution_count": null,
   "id": "68bd438d",
   "metadata": {
    "scrolled": true
   },
   "outputs": [],
   "source": [
    "data = pd.read_csv(\"Files/forvantad_livslangd.csv\")\n",
    "\n",
    "data.head() "
   ]
  },
  {
   "cell_type": "code",
   "execution_count": null,
   "id": "64c3448e",
   "metadata": {},
   "outputs": [],
   "source": [
    "data = pd.read_csv(\"Files/forvantad_livslangd.csv\", sep=';')\n",
    "\n",
    "data.head() "
   ]
  },
  {
   "cell_type": "code",
   "execution_count": null,
   "id": "ce43856d",
   "metadata": {
    "scrolled": true
   },
   "outputs": [],
   "source": [
    "data = pd.read_csv(\"Files/forvantad_livslangd.csv\", sep=';', header= None)\n",
    "\n",
    "data.head() "
   ]
  },
  {
   "cell_type": "code",
   "execution_count": null,
   "id": "8dfeb127",
   "metadata": {
    "scrolled": true
   },
   "outputs": [],
   "source": [
    "import matplotlib.pyplot as plt\n",
    "\n",
    "plt.plot(data[5],data[6])"
   ]
  },
  {
   "cell_type": "code",
   "execution_count": null,
   "id": "33fc17f2",
   "metadata": {},
   "outputs": [],
   "source": [
    "data = pd.read_csv(\"Files/forvantad_livslangd.csv\", \n",
    "                   sep=';',\n",
    "                   header= None,\n",
    "                   decimal= ',')\n",
    "\n",
    "data.head() "
   ]
  },
  {
   "cell_type": "code",
   "execution_count": null,
   "id": "adbb817d",
   "metadata": {
    "scrolled": true
   },
   "outputs": [],
   "source": [
    "import matplotlib.pyplot as plt\n",
    "\n",
    "plt.plot(data[5],data[6])"
   ]
  },
  {
   "cell_type": "markdown",
   "id": "f5a54580",
   "metadata": {},
   "source": [
    "## Encoding"
   ]
  },
  {
   "cell_type": "code",
   "execution_count": null,
   "id": "f0f4189c",
   "metadata": {
    "scrolled": true
   },
   "outputs": [],
   "source": [
    "geodata = pd.read_csv(\"https://raw.githubusercontent.com/opendata-education/Maantiede/main/materiaali/data/SuomenKuntajako_2020_250k.mid\",\n",
    "                     header=None) # lägg till argumentet encoding='latin1'\n",
    "\n",
    "geodata.head()"
   ]
  },
  {
   "cell_type": "markdown",
   "id": "da3327bf",
   "metadata": {},
   "source": [
    "## Kernel"
   ]
  },
  {
   "cell_type": "code",
   "execution_count": null,
   "id": "388cebf2",
   "metadata": {},
   "outputs": [],
   "source": [
    "counter=0\n",
    "\n",
    "while counter<10:\n",
    "    print(\"Hello World?\")"
   ]
  },
  {
   "cell_type": "code",
   "execution_count": null,
   "id": "e30da3db",
   "metadata": {},
   "outputs": [],
   "source": [
    "data = pd.read_csv(\"Files/forvantad_livslangd.csv\")\n",
    "\n",
    "data.head() "
   ]
  },
  {
   "cell_type": "markdown",
   "id": "93e193c8",
   "metadata": {},
   "source": [
    " "
   ]
  },
  {
   "cell_type": "markdown",
   "id": "5e0bbad0",
   "metadata": {},
   "source": [
    " "
   ]
  },
  {
   "cell_type": "markdown",
   "id": "87647063",
   "metadata": {},
   "source": [
    " "
   ]
  },
  {
   "cell_type": "markdown",
   "id": "6782ada3",
   "metadata": {},
   "source": [
    " "
   ]
  },
  {
   "cell_type": "markdown",
   "id": "15003536",
   "metadata": {},
   "source": [
    "  "
   ]
  },
  {
   "cell_type": "markdown",
   "id": "8b6a3e4e",
   "metadata": {},
   "source": [
    " "
   ]
  },
  {
   "cell_type": "markdown",
   "id": "696ce18a",
   "metadata": {},
   "source": [
    " "
   ]
  },
  {
   "cell_type": "markdown",
   "id": "6ca7ae4d",
   "metadata": {},
   "source": [
    " "
   ]
  },
  {
   "cell_type": "markdown",
   "id": "fd492158",
   "metadata": {},
   "source": [
    " "
   ]
  },
  {
   "cell_type": "markdown",
   "id": "114bf55b",
   "metadata": {},
   "source": [
    " "
   ]
  },
  {
   "cell_type": "markdown",
   "id": "0e6b0d32",
   "metadata": {},
   "source": [
    "  "
   ]
  },
  {
   "cell_type": "markdown",
   "id": "a9b862b5",
   "metadata": {},
   "source": [
    " "
   ]
  },
  {
   "cell_type": "markdown",
   "id": "f7d7690e",
   "metadata": {},
   "source": [
    " "
   ]
  },
  {
   "cell_type": "markdown",
   "id": "98a5a5ec",
   "metadata": {},
   "source": [
    " "
   ]
  },
  {
   "cell_type": "markdown",
   "id": "6d756037",
   "metadata": {},
   "source": [
    " "
   ]
  },
  {
   "cell_type": "markdown",
   "id": "03f6853f",
   "metadata": {},
   "source": [
    " "
   ]
  },
  {
   "cell_type": "markdown",
   "id": "a448cb15",
   "metadata": {},
   "source": [
    "     "
   ]
  }
 ],
 "metadata": {
  "kernelspec": {
   "display_name": "Python 3",
   "language": "python",
   "name": "python3"
  },
  "language_info": {
   "codemirror_mode": {
    "name": "ipython",
    "version": 3
   },
   "file_extension": ".py",
   "mimetype": "text/x-python",
   "name": "python",
   "nbconvert_exporter": "python",
   "pygments_lexer": "ipython3",
   "version": "3.8.8"
  }
 },
 "nbformat": 4,
 "nbformat_minor": 5
}
