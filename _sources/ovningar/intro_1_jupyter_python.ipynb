{
 "cells": [
  {
   "cell_type": "markdown",
   "metadata": {},
   "source": [
    "# Intro 1: Använd Jupyter Notebooks"
   ]
  },
  {
   "cell_type": "markdown",
   "metadata": {},
   "source": [
    "Om du inte har använt Jupyter Notebooks eller Python tidigare är detta ett bra ställe att börja.\n",
    "\n",
    "Detta är en Jupyter Notebook. Notebook är en typ av dokument som är interaktiva. Du kan läsa instruktionerna och göra egna ändringar i dokumentet. För att detta ska fungera behöver du öppna dokumentet online med hjälp av webbapplikationen MyBinder (detta kan göras med hjälp av raketsymbolen uppe i kanten. Det kan ta någon minut att öppna.) eller genom att ladda ned filen (filformat.ipynb) och öppna den lokalt med programmet Jupyter Notebook."
   ]
  },
  {
   "cell_type": "markdown",
   "metadata": {},
   "source": [
    "## Jupyter-övningar"
   ]
  },
  {
   "cell_type": "markdown",
   "metadata": {},
   "source": [
    "### 1. Köra celler"
   ]
  },
  {
   "cell_type": "markdown",
   "metadata": {},
   "source": [
    "Ett Jupyter-dokument består av textceller och kodceller. Detta är en textcell, även kallad *markdown*. Du kan öppna en cell i *edit mode* genom att dubbelklicka den. Du kan **köra** (run) en cell genom att trycka **Ctrl + Enter**, eller **Run**-knappen i menybalken.\n",
    "\n",
    "När du öppnar cellen ser du också hur olika typer av formatering fungerar, t.ex. hur man skriver **fet** och *kursiv* stil. \n",
    "\n",
    "- Testa att öppna och ändra denna cell\n",
    "- Kör cellen."
   ]
  },
  {
   "cell_type": "markdown",
   "metadata": {},
   "source": [
    "### 2. Nya celler och celltyp"
   ]
  },
  {
   "cell_type": "markdown",
   "metadata": {},
   "source": [
    "Denna cell är en textcell. När du markerar en sådan ser du texten \"Markdown\" i en ruta i övre kanten. Du kan ändra cellens typ till \"Code\" om du vill. Denna cell innehåller dock ingen fungerande python-kod, så det är inte till någon nytta.\n",
    "\n",
    "Man kan sätta in nya celler om det behövs. Se i den övre menybalken, och välj **Insert** $\\rightarrow$ **Insert cell below**. En ny cell är automatiskt en kodcell.\n",
    "\n",
    "- Skapa en ny cell.\n",
    "- Ändra den nya cellen till *Markdown*."
   ]
  },
  {
   "cell_type": "markdown",
   "metadata": {},
   "source": [
    "### 3. Matematiska uttryck"
   ]
  },
  {
   "cell_type": "markdown",
   "metadata": {},
   "source": [
    "I textceller i Jupyter kan man använda $\\LaTeX$-text. Om du inte har använt LaTeX är du kanske bekant med något annat program som använder det språket, till exempel MAOLs [Läksyvihko](https://xn--lksyvihko-v2a.fi/).\n",
    "\n",
    "Genom att skriva `$`-tecken före och efter koden kan man få ekvationer mitt i en textrad, så här:  $\\frac{d}{dx}e^x = e^x$\n",
    "\n",
    "Om man skriver dubbla `$$`-tecken syns formeln på en egen rad. (öppna denna cell och se hur det ser ut)\n",
    "\n",
    "$$P\\left(\\text{\"k av n lyckas\"}\\right)\\ =\\ \\binom{n}{k}\\cdot p^k\\cdot q^{n-k}$$\n",
    "\n",
    "- Här syns deriveringsregeln för en naturlig exponentialfunktion och formeln för binomialsannolikhet. Skapa en ny textcell nedan och skriv in någon annan av dina favoritformler. Om du inte har använt LaTeX tidigare kan du använda Läksyvihko för att översätta din ekvation till kod."
   ]
  },
  {
   "cell_type": "markdown",
   "metadata": {},
   "source": [
    "### 4. Bilder och länkar"
   ]
  },
  {
   "cell_type": "markdown",
   "metadata": {},
   "source": [
    "Om man skriver en artikel i en notebook vill man kanske lägga in bilder. kommandot för att göra detta är ``<img src= bildlänk   >`` eller ``![titel](bildlänk)``\n",
    "\n",
    "Efter Istället för **\"bildlänk\"** fyller man i en webbadress till en bild. Då hämtar Jupyter automatiskt in bilden.\n",
    "\n",
    "Om du har sparat denna notebook på din dator och öppnat den med Jupyter Notebooks kan du också skriva filnamnet på en bild som ligger i samma mapp som denna notebook på din dator.\n",
    "\n",
    "- Skapa en ny cell, eller använd den nya cellen du skapade i uppgift 2.\n",
    "- Använd någotdera kommandot för att lägga till en bild.\n",
    "- Kör cellen. Syns bilden? Kom ihåg att det måste vara en Markdown-cell."
   ]
  },
  {
   "cell_type": "markdown",
   "metadata": {},
   "source": [
    "## Python-uppgifter"
   ]
  },
  {
   "cell_type": "markdown",
   "metadata": {},
   "source": [
    "### 1. Obligatoriskt \"Hello World!\"-program"
   ]
  },
  {
   "cell_type": "markdown",
   "metadata": {},
   "source": [
    "Cellen nedan är en kodcell. Man känner igen kodceller på Index-markeringen ``In [ ]`` och den pilformade *run*-knappen i vänstra kanten. Detta dokument är inställt på Python-kod\n",
    "\n",
    "Det hör till traditionen att man börjar vägen mot programmering med att göra ett program som skriver ut meddelandet \"Hello World!\".\n",
    "\n",
    "- skriv följande kod i cellen nedan.\n",
    "\n",
    "````python\n",
    "print(\"Hello World!\")\n",
    "````\n",
    "- Kör kodcellen. Den borde skriva ut meddelandet."
   ]
  },
  {
   "cell_type": "code",
   "execution_count": null,
   "metadata": {},
   "outputs": [],
   "source": []
  },
  {
   "cell_type": "markdown",
   "metadata": {},
   "source": [
    "### 2. Error"
   ]
  },
  {
   "cell_type": "markdown",
   "metadata": {},
   "source": [
    "Det sägs att det enda som är säkert i livet är döden och skattebetalningen, men för en programmerare är inget mer säkert än att koden förr eller senare avger ett felmeddelande.\n",
    "\n",
    "Ibland fungerar inte koden, och det kan vara så lite som ett enda tecken som är fel. Python innehåller inte någon funktion som rättar din kod, men felmeddelandet pekar ut **var** i koden felet finns. Seda får man lov att söka och testa tills man lyckas få koden att fungera.\n",
    "\n",
    "- Kör koden nedan. Den avger ett felmeddelande.\n",
    "- Vad är felet i koden? Kan du fix."
   ]
  },
  {
   "cell_type": "code",
   "execution_count": 8,
   "metadata": {},
   "outputs": [
    {
     "ename": "SyntaxError",
     "evalue": "invalid syntax (<ipython-input-8-5913a514c232>, line 1)",
     "output_type": "error",
     "traceback": [
      "\u001b[1;36m  File \u001b[1;32m\"<ipython-input-8-5913a514c232>\"\u001b[1;36m, line \u001b[1;32m1\u001b[0m\n\u001b[1;33m    print(Att fela är mänskligt.)\u001b[0m\n\u001b[1;37m              ^\u001b[0m\n\u001b[1;31mSyntaxError\u001b[0m\u001b[1;31m:\u001b[0m invalid syntax\n"
     ]
    }
   ],
   "source": [
    "print(Att fela är mänskligt.)"
   ]
  },
  {
   "cell_type": "markdown",
   "metadata": {},
   "source": [
    "### 3. Variabler"
   ]
  },
  {
   "cell_type": "markdown",
   "metadata": {},
   "source": [
    "Beräkningar i Python använder vanligen variabler. En variabel kan definieras med hjälp av ett =-tecken.\n",
    "\n",
    "Man kan använda de 4 räknesätten med +, -, \\* och /, och potens med \\*\\*.\n",
    "\n",
    "- Läs exempelkoden så att du förstår hur den fungerar. Kör den."
   ]
  },
  {
   "cell_type": "code",
   "execution_count": 3,
   "metadata": {},
   "outputs": [
    {
     "name": "stdout",
     "output_type": "stream",
     "text": [
      "En månad är i medeltal 30.4375 dagar lång\n"
     ]
    }
   ],
   "source": [
    "# Rader som börjar med # påverkar inte koden.\n",
    "# Använd gärna sådana kommentarer för att förklara vad koden gör.\n",
    "\n",
    "manader = 12         # Variabeln månader har nu värdet 12.\n",
    "dagar = 365.25       # Variabeln dagar har värdet 365.25\n",
    "kvot = dagar/manader\n",
    "\n",
    "print(\"En månad är i medeltal\", kvot, \"dagar lång\")"
   ]
  },
  {
   "cell_type": "markdown",
   "metadata": {},
   "source": [
    "- Skriv en kod som definierar variablerna **a** och **b** (vilka siffervärden du vill), multiplicerar dem och skriver ut svaret."
   ]
  },
  {
   "cell_type": "code",
   "execution_count": null,
   "metadata": {},
   "outputs": [],
   "source": []
  },
  {
   "cell_type": "markdown",
   "metadata": {},
   "source": [
    "### 4. Funktionspaket "
   ]
  },
  {
   "cell_type": "markdown",
   "metadata": {},
   "source": [
    "Pythons egna funktioner är ganska begränsade, men det finns många tilläggsmoduler, så kallade *paket* med funktioner som man kan importera till sin kod för att få fler möjligheter. Det är också möjligt för python-användare att skapa sina egna moduler.\n",
    "\n",
    "Vi testar här att importera paketet **numpy**, som innehåller många funktioner för beräkningar.\n",
    "När vi har importerat numpy kan vi använda numpys funktioner om vi kallar på dem med prefixet **numpy.** Ett funktionspaket behöver bara hämtas en gång per dokument, men import-kommandot måste köras igen varje gång man startar om dokumentet.\n",
    "\n",
    "Vi kan också importera numpy med ett kortnamn och på så sätt förenkla prefixet.\n",
    "````python\n",
    "import numpy as np\n",
    "````"
   ]
  },
  {
   "cell_type": "code",
   "execution_count": 10,
   "metadata": {},
   "outputs": [
    {
     "data": {
      "text/plain": [
       "0.0"
      ]
     },
     "execution_count": 10,
     "metadata": {},
     "output_type": "execute_result"
    }
   ],
   "source": [
    "import numpy as np\n",
    "\n",
    "np.sin(0)  # sinusfunktionen ingår i numpy-paketet. Vi beräknar sinus av vinkeln 0 rad. "
   ]
  },
  {
   "cell_type": "markdown",
   "metadata": {},
   "source": [
    "### 5. Listor"
   ]
  },
  {
   "cell_type": "markdown",
   "metadata": {},
   "source": [
    "En lista är en serie värden. De kan vara siffervärden, text eller andra variabler.\n",
    "Man kan spara listan som ett variabelvärde.\n",
    "\n",
    "````python\n",
    "lista = [2, 3, \"banan\", \"äpple\", 5]\n",
    "````\n",
    "\n",
    "Om listan bara innehåller siffervärden kan du använda numpys funktioner för att beräkna lägesmått för det statistiska materialet.\n",
    "\n",
    "np.mean(lista) beräknar medelvärde\n",
    "\n",
    "np.std(lista) beräknar standardavvikelse\n",
    "\n",
    "np.var(lista) beräknar varians\n",
    "\n",
    "- Samla in minst 5 statistiksiffror - exempelvis 5 vänners längd - och skriv in dem en lista nedan.\n",
    "- Beräkna medeltal och standardavvikelse för listan. Du måste ha kört en cell som importerar numpy först."
   ]
  },
  {
   "cell_type": "code",
   "execution_count": null,
   "metadata": {},
   "outputs": [],
   "source": []
  },
  {
   "cell_type": "markdown",
   "metadata": {},
   "source": [
    "## Bra jobbat!"
   ]
  },
  {
   "cell_type": "markdown",
   "metadata": {},
   "source": [
    "Du kom genom introduktionen. Hoppas den har varit lärorik och klar, och att du minns funktionerna vi gick igenom.\n",
    "\n",
    "Om du har frågor kan du fråga din instruktör eller maila oss på avoin-data-apua@cern.ch\n",
    "\n",
    "I nästa Notebook ritar vi diagram."
   ]
  }
 ],
 "metadata": {
  "kernelspec": {
   "display_name": "Python 3",
   "language": "python",
   "name": "python3"
  },
  "language_info": {
   "codemirror_mode": {
    "name": "ipython",
    "version": 3
   },
   "file_extension": ".py",
   "mimetype": "text/x-python",
   "name": "python",
   "nbconvert_exporter": "python",
   "pygments_lexer": "ipython3",
   "version": "3.8.5"
  }
 },
 "nbformat": 4,
 "nbformat_minor": 4
}
