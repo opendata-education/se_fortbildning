{
 "cells": [
  {
   "cell_type": "markdown",
   "id": "9d9c5139",
   "metadata": {},
   "source": [
    "# Första testet med Python"
   ]
  },
  {
   "cell_type": "markdown",
   "id": "b028867d",
   "metadata": {},
   "source": [
    "### Funktion och argument"
   ]
  },
  {
   "cell_type": "code",
   "execution_count": 1,
   "id": "3aa49042",
   "metadata": {},
   "outputs": [
    {
     "name": "stdout",
     "output_type": "stream",
     "text": [
      "Hello World!\n"
     ]
    }
   ],
   "source": [
    "print(\"Hello World!\")"
   ]
  },
  {
   "cell_type": "markdown",
   "id": "2c4e3fc7",
   "metadata": {},
   "source": [
    "### Variabler"
   ]
  },
  {
   "cell_type": "code",
   "execution_count": 2,
   "id": "a912726e",
   "metadata": {
    "scrolled": true
   },
   "outputs": [
    {
     "name": "stdout",
     "output_type": "stream",
     "text": [
      "produkten av 4 och 6 är 24\n"
     ]
    }
   ],
   "source": [
    "faktor1 = 4\n",
    "faktor2 = 6\n",
    "\n",
    "produkt = faktor1 * faktor2\n",
    "\n",
    "print(\"produkten av\", faktor1, \"och\", faktor2, \"är\", produkt)"
   ]
  },
  {
   "cell_type": "code",
   "execution_count": 4,
   "id": "909ad9e0",
   "metadata": {},
   "outputs": [
    {
     "name": "stdout",
     "output_type": "stream",
     "text": [
      "Hello World!\n"
     ]
    }
   ],
   "source": [
    "print(\"Hello World!\")"
   ]
  },
  {
   "cell_type": "markdown",
   "id": "a5e3c0a3",
   "metadata": {},
   "source": [
    "### Kommentar"
   ]
  },
  {
   "cell_type": "code",
   "execution_count": 5,
   "id": "a7a29cee",
   "metadata": {},
   "outputs": [
    {
     "data": {
      "text/plain": [
       "5"
      ]
     },
     "execution_count": 5,
     "metadata": {},
     "output_type": "execute_result"
    }
   ],
   "source": [
    "a = 2  # skapar variablerna a och b\n",
    "b = 3\n",
    "\n",
    "a+b # adderar a och b"
   ]
  },
  {
   "cell_type": "markdown",
   "id": "f7930f0f",
   "metadata": {},
   "source": [
    "### Funktionspaket"
   ]
  },
  {
   "cell_type": "code",
   "execution_count": 9,
   "id": "7919494d",
   "metadata": {},
   "outputs": [],
   "source": [
    "import numpy as np"
   ]
  },
  {
   "cell_type": "code",
   "execution_count": 10,
   "id": "de518007",
   "metadata": {},
   "outputs": [
    {
     "data": {
      "text/plain": [
       "3.141592653589793"
      ]
     },
     "execution_count": 10,
     "metadata": {},
     "output_type": "execute_result"
    }
   ],
   "source": [
    "np.pi"
   ]
  },
  {
   "cell_type": "code",
   "execution_count": 11,
   "id": "92c6dd92",
   "metadata": {
    "scrolled": true
   },
   "outputs": [
    {
     "data": {
      "text/plain": [
       "0.8414709848078965"
      ]
     },
     "execution_count": 11,
     "metadata": {},
     "output_type": "execute_result"
    }
   ],
   "source": [
    "np.sin(1) #rad"
   ]
  },
  {
   "cell_type": "markdown",
   "id": "adb376f3",
   "metadata": {},
   "source": [
    "### Listor"
   ]
  },
  {
   "cell_type": "code",
   "execution_count": 12,
   "id": "15521ab8",
   "metadata": {},
   "outputs": [
    {
     "data": {
      "text/plain": [
       "4.0"
      ]
     },
     "execution_count": 12,
     "metadata": {},
     "output_type": "execute_result"
    }
   ],
   "source": [
    "lista = [1, 2, 5, 8]\n",
    "\n",
    "np.mean(lista) # medeltal"
   ]
  },
  {
   "cell_type": "code",
   "execution_count": 13,
   "id": "d0dba97e",
   "metadata": {},
   "outputs": [
    {
     "data": {
      "text/plain": [
       "2.7386127875258306"
      ]
     },
     "execution_count": 13,
     "metadata": {},
     "output_type": "execute_result"
    }
   ],
   "source": [
    "np.std(lista) # standardavvikelse"
   ]
  }
 ],
 "metadata": {
  "kernelspec": {
   "display_name": "Python 3",
   "language": "python",
   "name": "python3"
  },
  "language_info": {
   "codemirror_mode": {
    "name": "ipython",
    "version": 3
   },
   "file_extension": ".py",
   "mimetype": "text/x-python",
   "name": "python",
   "nbconvert_exporter": "python",
   "pygments_lexer": "ipython3",
   "version": "3.8.8"
  }
 },
 "nbformat": 4,
 "nbformat_minor": 5
}
