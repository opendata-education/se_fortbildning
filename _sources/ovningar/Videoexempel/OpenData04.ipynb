{
 "cells": [
  {
   "cell_type": "markdown",
   "id": "898830a6",
   "metadata": {},
   "source": [
    "# Mera Jupyter"
   ]
  },
  {
   "cell_type": "markdown",
   "id": "5758eed4",
   "metadata": {},
   "source": [
    "### Infoga bild"
   ]
  },
  {
   "cell_type": "markdown",
   "id": "abc3bbac",
   "metadata": {},
   "source": [
    "<img src= Files/HIPlogo.png width= 200 >"
   ]
  },
  {
   "cell_type": "markdown",
   "id": "b0944e7f",
   "metadata": {},
   "source": [
    "![](https://www.hip.fi/wp-content/uploads/2019/10/HIP_Logo_EN_V1_Pos_Blue_transparent-372x100px.png)"
   ]
  },
  {
   "cell_type": "markdown",
   "id": "793fb331",
   "metadata": {},
   "source": [
    "# $\\LaTeX$"
   ]
  },
  {
   "cell_type": "markdown",
   "id": "f52b64fb",
   "metadata": {},
   "source": [
    "Vatten är $H_2O$\n",
    "\n",
    "$$\\sum_{i=1}^{\\ n}i=\\frac{n^2+1}{2} $$"
   ]
  },
  {
   "cell_type": "markdown",
   "id": "1b0af09e",
   "metadata": {},
   "source": [
    "# ``raw``"
   ]
  },
  {
   "cell_type": "markdown",
   "id": "f2847d6d",
   "metadata": {},
   "source": [
    "För att infoga en bild:\n",
    "\n",
    "`<img src=\"SOURCE\">`"
   ]
  },
  {
   "cell_type": "markdown",
   "id": "745a9fd6",
   "metadata": {},
   "source": [
    "För att skriva ett meddelande:\n",
    "\n",
    "````python\n",
    "print(\"Hello World!\") # skriver meddelandet\n",
    "````"
   ]
  },
  {
   "cell_type": "markdown",
   "id": "af0ca44c",
   "metadata": {},
   "source": [
    " "
   ]
  },
  {
   "cell_type": "markdown",
   "id": "81985750",
   "metadata": {},
   "source": [
    " "
   ]
  }
 ],
 "metadata": {
  "kernelspec": {
   "display_name": "Python 3",
   "language": "python",
   "name": "python3"
  },
  "language_info": {
   "codemirror_mode": {
    "name": "ipython",
    "version": 3
   },
   "file_extension": ".py",
   "mimetype": "text/x-python",
   "name": "python",
   "nbconvert_exporter": "python",
   "pygments_lexer": "ipython3",
   "version": "3.8.8"
  }
 },
 "nbformat": 4,
 "nbformat_minor": 5
}
