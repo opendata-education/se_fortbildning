{
 "cells": [
  {
   "cell_type": "markdown",
   "id": "c13ef6ce",
   "metadata": {},
   "source": [
    "# OpenData: Fortbildning, session 1 - Kom igång!"
   ]
  },
  {
   "cell_type": "markdown",
   "id": "64e5fff6",
   "metadata": {},
   "source": [
    "## Program"
   ]
  },
  {
   "cell_type": "markdown",
   "id": "25ff23a7",
   "metadata": {},
   "source": [
    "Här följer en sammanfattningslista på sessionens ämnen. Instruktioner finns även på video, och klickbara länkar till klippen hittas i dokumentet. Klippen är främst ämnade som repetition mellan kurstillfällen, men kan också användas som en fristående kurs om man hellre lär sig självständigt.\n",
    "\n",
    "Denna session är en start från grunden, och kräver inte någon tidigare erfarenhet av programmen."
   ]
  },
  {
   "cell_type": "markdown",
   "id": "09890bc2",
   "metadata": {},
   "source": [
    "## 1 - Förberedelser"
   ]
  },
  {
   "cell_type": "markdown",
   "id": "ccad1605",
   "metadata": {},
   "source": [
    "### 1.1 Beskrivning av projektet\n",
    "\n",
    "Slides:\n",
    "- Programmen som används, deras fördelar\n",
    "- Vad är open data? vilka fördelar?\n",
    "- Kort om filformat\n",
    "- Kort om organisationen och målen\n"
   ]
  },
  {
   "cell_type": "markdown",
   "id": "fa43e8a6",
   "metadata": {},
   "source": [
    "### 1.2 Ladda ned Anaconda [(video)](https://youtu.be/znXULZlWJac)\n",
    "\n",
    "- Programpaketet Anaconda innehåller allt vi behöver för projektet.\n",
    "- Starta Anaconda och Jupyter\n",
    "- Navigera filer\n",
    "- Ladda ned instruktioner"
   ]
  },
  {
   "cell_type": "markdown",
   "id": "62b871ad",
   "metadata": {},
   "source": [
    "## 2 - Lära känna verktygen"
   ]
  },
  {
   "cell_type": "markdown",
   "id": "cbfa5fce",
   "metadata": {},
   "source": [
    "### 2.1 Intro till Jupyter Notebooks [(video)](https://youtu.be/76mGyDS3PsY)\n",
    "\n",
    "- Skapa dokument, namnge dokument\n",
    "- Ny cell, celltyper\n",
    "- Knappar och hotkeys\n",
    "- Vad är Markdown? (emphasis, headers)"
   ]
  },
  {
   "cell_type": "markdown",
   "id": "7c189667",
   "metadata": {},
   "source": [
    "### 2.2 Intro till Python [(video)](https://youtu.be/6xgYHvXaoHA)\n",
    "\n",
    "- \"Hello World!\"\n",
    "- Kommandon\n",
    "- Variabler och räknefunktioner\n",
    "- Listor\n",
    "- Funktionspaket"
   ]
  },
  {
   "cell_type": "markdown",
   "id": "39fc31e0",
   "metadata": {},
   "source": [
    "## 3 - Nästa nivå"
   ]
  },
  {
   "cell_type": "markdown",
   "id": "81d53335",
   "metadata": {},
   "source": [
    "### 3.1 Mera Jupyter [(video)](https://youtu.be/UN2ZeagDgTM)\n",
    "\n",
    "- Infoga länk\n",
    "- Infoga bild (filhänvisning)\n",
    "- $LaTeX$\n",
    "- kodtext, raw"
   ]
  },
  {
   "cell_type": "markdown",
   "id": "499539ec",
   "metadata": {},
   "source": [
    "### 3.2 Vad är CSV? [(video för 3.2 och 3.3)](https://youtu.be/5CX9D-08Ox4)\n",
    "\n",
    "- Filformat\n",
    "- söka exempeldataset [(Ilmatieteen laitos)](https://www.ilmatieteenlaitos.fi/)\n",
    "- Läsa in dataset (pandas)\n",
    "- Vad är DataFrame"
   ]
  },
  {
   "cell_type": "markdown",
   "id": "d9acce5f",
   "metadata": {},
   "source": [
    "### 3.3 Vår första graf\n",
    "\n",
    "- Kolumn ur DataFrame\n",
    "- Rita graf (matplotlib.pyplot)\n",
    "- Snygga till grafen (size, title, label, legend, grid...)"
   ]
  },
  {
   "cell_type": "markdown",
   "id": "43e6b935",
   "metadata": {},
   "source": [
    "## Session slut"
   ]
  },
  {
   "cell_type": "markdown",
   "id": "1cb7bc5d",
   "metadata": {},
   "source": [
    "Inför nästa träff rekommenderas att du håller minnet fräscht genom att testa dig fram kring det vi har gått igenom. Skriv ner frågor om något inte fungerar som du har tänkt dig. De länkade videoklippen kan vara till hjälp."
   ]
  }
 ],
 "metadata": {
  "kernelspec": {
   "display_name": "Python 3",
   "language": "python",
   "name": "python3"
  },
  "language_info": {
   "codemirror_mode": {
    "name": "ipython",
    "version": 3
   },
   "file_extension": ".py",
   "mimetype": "text/x-python",
   "name": "python",
   "nbconvert_exporter": "python",
   "pygments_lexer": "ipython3",
   "version": "3.8.8"
  }
 },
 "nbformat": 4,
 "nbformat_minor": 5
}
