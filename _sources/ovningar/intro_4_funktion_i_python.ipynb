{
 "cells": [
  {
   "cell_type": "markdown",
   "metadata": {},
   "source": [
    "# Intro 3: Funktionsanpassning i Python"
   ]
  },
  {
   "cell_type": "markdown",
   "metadata": {},
   "source": [
    "I denna notebook ska vi bekanta oss med *funktionsanpassning*, ett mycket viktigt användningsområde för programmering inom fysiken. Vi kommer här att använda oss av *linjär regression* - anpassning av en förstagradsfunktion till givna datapunkter. En mer avancerad anpassning görs i dokumentet *\"Att anpassa en funktion till ett diagram\"*, som också hittas i denna Jupyter Book.\n",
    "\n",
    "Vi börjar med att importera de viktiga paketen **matplotlib.pyplot** och **numpy**. Vi kommer också senare att använda en funktion från **scipy**."
   ]
  },
  {
   "cell_type": "code",
   "execution_count": 2,
   "metadata": {},
   "outputs": [],
   "source": [
    "import matplotlib.pyplot as plt  # matplotlib.pyplot innehåller verktyg för att rita grafer och diagram.\n",
    "import numpy as np               "
   ]
  },
  {
   "cell_type": "markdown",
   "metadata": {},
   "source": [
    "### Funktionsanpassning"
   ]
  },
  {
   "cell_type": "markdown",
   "metadata": {},
   "source": [
    "När vi utför fysikaliska experiment vill vi ofta jämföra våra resultat med en teoretisk modell. Funktionsanpassningen är ett sätt för oss att se hur bra den teoretiska modellen följs.\n",
    "\n",
    "Som exempel kan vi tänka oss ett experiment som är typiskt för gymnasiets första fysikkurs. Eleverna blir tilldelade varierande järnföremål (vikter, bultar och muttrar, t.ex.), och uppgiften är att bestämma densiteten för järn.\n",
    "\n",
    "<img src= \"files/nutsnbolts.PNG\" width = 300>\n",
    "\n",
    "Eleverna väger föremålen noga, och uppskattar föremålens volym genom geometriska beräkningar eller experimentellt genom att sänka dem i vatten (Arkimedes princip). Uppgiften är sedan att sammanställa resultaten i ett diagram och se det linjära sambandet. Vi tar en titt på detta diagram:"
   ]
  },
  {
   "cell_type": "code",
   "execution_count": 9,
   "metadata": {
    "scrolled": true
   },
   "outputs": [
    {
     "data": {
      "image/png": "[encoded data removed]",
      "text/plain": [
       "<Figure size 432x288 with 1 Axes>"
      ]
     },
     "metadata": {
      "needs_background": "light"
     },
     "output_type": "display_data"
    }
   ],
   "source": [
    "# Mätresultat:\n",
    "\n",
    "# Volym i cm3\n",
    "volymer = [3.2, 2.4, 6.0, 8.3, 4.4]\n",
    "# Vikt i gram\n",
    "vikter = [25, 20, 45, 65, 35]\n",
    "\n",
    "\n",
    "                                                       # Vi använder matplotlib.pyplot (plt) för att rita ett diagram.\n",
    "plt.scatter(volymer, vikter)                           # plt.scatter(x, y) ritar ut punkter utgående från listorna.\n",
    "plt.title(\"Mätresultat från densitetexperimentet FY1\") # plt.title ger en rubrik\n",
    "plt.xlabel(\"Föremålens volym ($cm^3$)\")                # plt.xlabel/ylabel ger förklaringar till axlarna.\n",
    "plt.ylabel(\"Föremålens massa (g)\")                      # Man kan använda $$-tecken för att avgränsa LaTeX-uttryck\n",
    "plt.grid()                                             # plt.grid lägger till ett rutnät\n",
    "\n",
    "plt.show()     "
   ]
  },
  {
   "cell_type": "markdown",
   "metadata": {},
   "source": [
    "Vi har mätresultaten i ett diagram, och vi ser att storheterna rimligen har ett linjärt förhållande. Genom att anpassa en linje och beräkna linjens riktningskoefficient får vi reda på densiteten för järn.\n",
    "\n",
    "$$ \\rho = \\frac{\\Delta m}{\\Delta V}$$\n",
    "\n",
    "<img src=\"files/densitet.PNG\" width=300>\n",
    "\n",
    "I de första fysikkurserna anpassas den linjen ofta med ögonmått - uppskattad med linjal. Åtminstone gjorde man så innan GeoGebra och CAS-räknare blev allmänt använda och innan kursmaterialet var digitalt. Den noggrannheten är duglig i grundkurser, men självklart kommer resultaten att variera lite, och en mer exakt metod är viktig att känna till.\n",
    "\n",
    "Med hjälp av programmering kan vi optimera anpassningen. Ett sätt att göra detta är att använda **scipy.stats.linregress**. Den funktionen anpassar en linje till de givna punkterna."
   ]
  },
  {
   "cell_type": "code",
   "execution_count": 13,
   "metadata": {},
   "outputs": [
    {
     "name": "stdout",
     "output_type": "stream",
     "text": [
      "LinregressResult(slope=7.588479595521847, intercept=1.1199891657638261, rvalue=0.9982889345678648, pvalue=8.494196166006045e-05, stderr=0.2566258120358384)\n"
     ]
    }
   ],
   "source": [
    "from scipy.stats import linregress\n",
    "\n",
    "optimering = linregress(volymer,vikter)\n",
    "\n",
    "print(optimering)"
   ]
  },
  {
   "cell_type": "markdown",
   "metadata": {},
   "source": [
    "Bland resultaten ser vi\n",
    "- **slope** (riktningskoefficient) = 7.588\n",
    "- **intercept** (skärningspunkt med y-axeln) = 1.120\n",
    "\n",
    "Linjens ekvation är alltså $7.588\\cdot x + 1.120$, och $7.588 \\ g/{cm}^3$ är den beräknade densiteten för järn.\n",
    "\n",
    "Vi ritar in den linjen i samma koordinatsystem för att jämföra."
   ]
  },
  {
   "cell_type": "code",
   "execution_count": 15,
   "metadata": {
    "scrolled": true
   },
   "outputs": [
    {
     "data": {
      "image/png": "[encoded data removed]",
      "text/plain": [
       "<Figure size 432x288 with 1 Axes>"
      ]
     },
     "metadata": {
      "needs_background": "light"
     },
     "output_type": "display_data"
    }
   ],
   "source": [
    "x = np.linspace(2, 9, 100)   # vi skapar en lista med 100 x-värden mellan 2 och 9\n",
    "y = 7.588*x + 1.120          # vi skapar en lista med y-värden enligt den erhållna funktionen\n",
    "\n",
    "# Vi ritar ut linjen med hjälp av plt.plot, och sedan upprepar vi alla kommandon som vi använde till den förra grafen.\n",
    "plt.plot(x, y, color='orange')\n",
    "\n",
    "plt.scatter(volymer, vikter)                           # plt.scatter(x, y) ritar ut punkter utgående från listorna.\n",
    "plt.title(\"Mätresultat från densitetexperimentet FY1\") # plt.title ger en rubrik\n",
    "plt.xlabel(\"Föremålens volym ($cm^3$)\")                # plt.xlabel/ylabel ger förklaringar till axlarna.\n",
    "plt.ylabel(\"Föremålens massa (g)\")                      # Man kan använda $$-tecken för att avgränsa LaTeX-uttryck\n",
    "plt.grid() \n",
    "\n",
    "plt.show()"
   ]
  },
  {
   "cell_type": "markdown",
   "metadata": {},
   "source": [
    "Nu har vi anpassat en linje - inte genom uppskattning, utan genom [minstakvadratmetoden](https://sv.wikipedia.org/wiki/Minstakvadratmetoden). Vi har också en beskrivande graf som visar den anpassade linjen tillsammans med datapunkterna.\n",
    "  Du kan själv testa att anpassa en linje till ett eget set av datapunkter med samma metod som ovan, eller gå vidare till nästa nivå och se på hur vi kan anpassa en mer invecklad funktion till mätresultat. (Se dokumentet *Att anpassa en funktion till ett diagram*)\n",
    "  \n",
    "  Lycka till!"
   ]
  }
 ],
 "metadata": {
  "kernelspec": {
   "display_name": "Python 3",
   "language": "python",
   "name": "python3"
  },
  "language_info": {
   "codemirror_mode": {
    "name": "ipython",
    "version": 3
   },
   "file_extension": ".py",
   "mimetype": "text/x-python",
   "name": "python",
   "nbconvert_exporter": "python",
   "pygments_lexer": "ipython3",
   "version": "3.8.5"
  }
 },
 "nbformat": 4,
 "nbformat_minor": 4
}
